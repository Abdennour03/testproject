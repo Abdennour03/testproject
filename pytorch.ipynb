{
 "cells": [
  {
   "cell_type": "code",
   "execution_count": 482,
   "metadata": {},
   "outputs": [],
   "source": [
    "import torch \n",
    "import torch.nn as nn\n",
    "import torch.nn.functional as F \n",
    "from torch.optim import SGD \n",
    "\n",
    "import matplotlib.pyplot as plt \n",
    "import seaborn as sns"
   ]
  },
  {
   "cell_type": "code",
   "execution_count": 483,
   "metadata": {},
   "outputs": [
    {
     "data": {
      "text/plain": [
       "tensor(1.1000)"
      ]
     },
     "execution_count": 483,
     "metadata": {},
     "output_type": "execute_result"
    }
   ],
   "source": [
    "torch.tensor(+1.1)"
   ]
  },
  {
   "cell_type": "code",
   "execution_count": 1,
   "metadata": {},
   "outputs": [
    {
     "ename": "NameError",
     "evalue": "name 'nn' is not defined",
     "output_type": "error",
     "traceback": [
      "\u001b[1;31m---------------------------------------------------------------------------\u001b[0m",
      "\u001b[1;31mNameError\u001b[0m                                 Traceback (most recent call last)",
      "Cell \u001b[1;32mIn[1], line 1\u001b[0m\n\u001b[1;32m----> 1\u001b[0m \u001b[38;5;28;01mclass\u001b[39;00m \u001b[38;5;21;01msimple_function_NN\u001b[39;00m(\u001b[43mnn\u001b[49m\u001b[38;5;241m.\u001b[39mModule):\u001b[38;5;66;03m# <--\u001b[39;00m\n\u001b[0;32m      2\u001b[0m     \u001b[38;5;28;01mdef\u001b[39;00m \u001b[38;5;21m__init__\u001b[39m(\u001b[38;5;28mself\u001b[39m): \u001b[38;5;66;03m#                |\u001b[39;00m\n\u001b[0;32m      3\u001b[0m         \u001b[38;5;28msuper\u001b[39m()\u001b[38;5;241m.\u001b[39m\u001b[38;5;21m__init__\u001b[39m() \u001b[38;5;66;03m#-------------\u001b[39;00m\n",
      "\u001b[1;31mNameError\u001b[0m: name 'nn' is not defined"
     ]
    }
   ],
   "source": [
    "class simple_function_NN(nn.Module):# <--\n",
    "    def __init__(self): #                |\n",
    "        super().__init__() #-------------\n",
    "        #the parametre of the function \n",
    "        \n",
    "        # neron 00\n",
    "        self.W00 = nn.Parameter(torch.tensor(+1.1), requires_grad=False)\n",
    "        self.b00 = nn.Parameter(torch.tensor(-0.5), requires_grad=False)\n",
    "        self.W11 = nn.Parameter(torch.tensor(+1.55), requires_grad=False)\n",
    "\n",
    "        # neron 01\n",
    "        self.W01 = nn.Parameter(torch.tensor(+0.6), requires_grad=False)\n",
    "        self.b01 = nn.Parameter(torch.tensor(-1.5), requires_grad=False)\n",
    "        self.W12 = nn.Parameter(torch.tensor(-0.7), requires_grad=False)\n",
    "\n",
    "        # neron 02\n",
    "        self.W02 = nn.Parameter(torch.tensor(+0.5), requires_grad=False)\n",
    "        self.b02 = nn.Parameter(torch.tensor(+0.65), requires_grad=False)\n",
    "        self.W13 = nn.Parameter(torch.tensor(+1.22), requires_grad=False)\n",
    "        \n",
    "        # neuron of the output\n",
    "        self.W20 = nn.Parameter(torch.tensor(+1.6), requires_grad=False)\n",
    "       \n",
    "        \n",
    "    def forward(self, x):\n",
    "        \n",
    "        # neuron 1\n",
    "        z1 = x * self.W00 +self.b00\n",
    "        activation1 = F.relu(z1)\n",
    "        z1 = activation1 * self.W11\n",
    "        \n",
    "        # neuron 2\n",
    "        z2 = x * self.W01 +self.b01\n",
    "        activation2 = F.relu(z2)\n",
    "        z2 = activation2 * self.W12\n",
    "        \n",
    "        # neuron 3\n",
    "        z3 = x * self.W02 +self.b02\n",
    "        activation3 = F.relu(z3)\n",
    "        z3 = activation3 * self.W13  \n",
    "        \n",
    "        y = z1 + z2 + z3\n",
    "        output = F.tanh(y) * self.W20\n",
    "        return output\n",
    "    \n",
    "    \n",
    "\n",
    "    "
   ]
  },
  {
   "cell_type": "code",
   "execution_count": 485,
   "metadata": {},
   "outputs": [
    {
     "name": "stdout",
     "output_type": "stream",
     "text": [
      "the input values\n"
     ]
    },
    {
     "data": {
      "text/plain": [
       "tensor([1.0000, 0.9737, 0.9474, 0.9211, 0.8947, 0.8684, 0.8421, 0.8158, 0.7895,\n",
       "        0.7632, 0.7368, 0.7105, 0.6842, 0.6579, 0.6316, 0.6053, 0.5789, 0.5526,\n",
       "        0.5263, 0.5000])"
      ]
     },
     "execution_count": 485,
     "metadata": {},
     "output_type": "execute_result"
    }
   ],
   "source": [
    "print('the input values')\n",
    "torch.linspace(start=1, end=0.5, steps=20)"
   ]
  },
  {
   "cell_type": "code",
   "execution_count": 486,
   "metadata": {},
   "outputs": [
    {
     "name": "stdout",
     "output_type": "stream",
     "text": [
      "the ouput val\n"
     ]
    },
    {
     "data": {
      "text/plain": [
       "tensor([1.5702, 1.5663, 1.5620, 1.5572, 1.5517, 1.5456, 1.5386, 1.5309, 1.5221,\n",
       "        1.5123, 1.5013, 1.4890, 1.4751, 1.4597, 1.4424, 1.4231, 1.4016, 1.3777,\n",
       "        1.3511, 1.3216])"
      ]
     },
     "execution_count": 486,
     "metadata": {},
     "output_type": "execute_result"
    }
   ],
   "source": [
    "function = simple_function_NN()\n",
    "x = torch.linspace(1,0.5, 20)\n",
    "y_true = function(x)\n",
    "print('the ouput val')\n",
    "y_true"
   ]
  },
  {
   "cell_type": "code",
   "execution_count": 487,
   "metadata": {},
   "outputs": [
    {
     "data": {
      "text/plain": [
       "Text(0, 0.5, 'y')"
      ]
     },
     "execution_count": 487,
     "metadata": {},
     "output_type": "execute_result"
    },
    {
     "data": {
      "image/png": "[encoded data removed]",
      "text/plain": [
       "<Figure size 640x480 with 1 Axes>"
      ]
     },
     "metadata": {},
     "output_type": "display_data"
    }
   ],
   "source": [
    "sns.set(style='whitegrid')\n",
    "sns.lineplot(\n",
    "    x = x,\n",
    "    y = y_true,\n",
    "    color = 'red',\n",
    "    linewidth = 3\n",
    ")\n",
    "plt.xlabel('x')\n",
    "plt.ylabel('y')"
   ]
  },
  {
   "cell_type": "code",
   "execution_count": 488,
   "metadata": {},
   "outputs": [],
   "source": [
    "class simple_function_NN(nn.Module):# <--\n",
    "    def __init__(self): #                |\n",
    "        super().__init__() #-------------\n",
    "        #the parametre of the function \n",
    "        \n",
    "        # neron 00\n",
    "        self.W00 = nn.Parameter(torch.tensor(0.0), requires_grad=True)\n",
    "        self.b00 = nn.Parameter(torch.tensor(-0.5), requires_grad=False)\n",
    "        self.W11 = nn.Parameter(torch.tensor(+1.55), requires_grad=False)\n",
    "\n",
    "        # neron 01\n",
    "        self.W01 = nn.Parameter(torch.tensor(0.0), requires_grad=True)\n",
    "        self.b01 = nn.Parameter(torch.tensor(-1.5), requires_grad=False)\n",
    "        self.W12 = nn.Parameter(torch.tensor(-0.7), requires_grad=False)\n",
    "\n",
    "        # neron 02\n",
    "        self.W02 = nn.Parameter(torch.tensor(+0.5), requires_grad=False)\n",
    "        self.b02 = nn.Parameter(torch.tensor(+0.65), requires_grad=False)\n",
    "        self.W13 = nn.Parameter(torch.tensor(+1.22), requires_grad=False)\n",
    "        \n",
    "        # neuron of the output\n",
    "        self.W20 = nn.Parameter(torch.tensor(0.0), requires_grad=True)\n",
    "       \n",
    "        \n",
    "    def forward(self, x):\n",
    "        \n",
    "        # neuron 1\n",
    "        z1 = x * self.W00 +self.b00\n",
    "        activation1 = F.relu(z1)\n",
    "        z1 = activation1 * self.W11\n",
    "        \n",
    "        # neuron 2\n",
    "        z2 = x * self.W01 +self.b01\n",
    "        activation2 = F.relu(z2)\n",
    "        z2 = activation2 * self.W12\n",
    "        \n",
    "        # neuron 3\n",
    "        z3 = x * self.W02 +self.b02\n",
    "        activation3 = F.relu(z3)\n",
    "        z3 = activation3 * self.W13  \n",
    "        \n",
    "        y = z1 + z2 + z3\n",
    "        output = F.tanh(y) * self.W20\n",
    "        return output\n",
    "    \n",
    "    \n",
    "\n",
    "    "
   ]
  },
  {
   "cell_type": "code",
   "execution_count": 489,
   "metadata": {},
   "outputs": [
    {
     "name": "stdout",
     "output_type": "stream",
     "text": [
      "the ouput val\n"
     ]
    },
    {
     "data": {
      "text/plain": [
       "tensor([0., 0., 0., 0., 0., 0., 0., 0., 0., 0., 0., 0., 0., 0., 0., 0., 0., 0., 0., 0.],\n",
       "       grad_fn=<MulBackward0>)"
      ]
     },
     "execution_count": 489,
     "metadata": {},
     "output_type": "execute_result"
    }
   ],
   "source": [
    "function = simple_function_NN()\n",
    "x = torch.linspace(1,0.5, 20)\n",
    "y = function(x)\n",
    "print('the ouput val')\n",
    "y"
   ]
  },
  {
   "cell_type": "code",
   "execution_count": null,
   "metadata": {},
   "outputs": [
    {
     "data": {
      "text/plain": [
       "Text(0, 0.5, 'y')"
      ]
     },
     "execution_count": 490,
     "metadata": {},
     "output_type": "execute_result"
    },
    {
     "data": {
      "image/png": "[encoded data removed]",
      "text/plain": [
       "<Figure size 640x480 with 1 Axes>"
      ]
     },
     "metadata": {},
     "output_type": "display_data"
    }
   ],
   "source": [
    "sns.set(style='whitegrid')\n",
    "sns.lineplot(\n",
    "    x = x,\n",
    "    y = y.detach(),\n",
    "    color = 'red',\n",
    "    linewidth = 3\n",
    ")\n",
    "plt.xlabel('x')\n",
    "plt.ylabel('y')"
   ]
  },
  {
   "cell_type": "code",
   "execution_count": 491,
   "metadata": {},
   "outputs": [],
   "source": [
    "# train the model for updat and optimiser \n",
    "optimizer = SGD(function.parameters(), lr= 0.01)\n",
    "loss = nn.MSELoss()"
   ]
  },
  {
   "cell_type": "code",
   "execution_count": 492,
   "metadata": {},
   "outputs": [
    {
     "name": "stdout",
     "output_type": "stream",
     "text": [
      "epoch : 0  |  total loss : 44.21305847167969\n",
      "epoch : 1  |  total loss : 22.49713897705078\n",
      "epoch : 2  |  total loss : 11.45189094543457\n",
      "epoch : 3  |  total loss : 5.834007740020752\n",
      "epoch : 4  |  total loss : 2.9766154289245605\n",
      "epoch : 5  |  total loss : 1.5232763290405273\n",
      "epoch : 6  |  total loss : 0.7840719819068909\n",
      "epoch : 7  |  total loss : 0.40809503197669983\n",
      "epoch : 8  |  total loss : 0.21686354279518127\n",
      "epoch : 9  |  total loss : 0.119598887860775\n",
      "epoch : 10  |  total loss : 0.07012762874364853\n",
      "epoch : 11  |  total loss : 0.04496541619300842\n",
      "epoch : 12  |  total loss : 0.03216724097728729\n",
      "epoch : 13  |  total loss : 0.02565772831439972\n",
      "epoch : 14  |  total loss : 0.02234683185815811\n",
      "epoch : 15  |  total loss : 0.020662853494286537\n",
      "epoch : 16  |  total loss : 0.019806336611509323\n",
      "epoch : 17  |  total loss : 0.019370684400200844\n",
      "epoch : 18  |  total loss : 0.019149109721183777\n",
      "epoch : 19  |  total loss : 0.019036410376429558\n",
      "epoch : 20  |  total loss : 0.01897909864783287\n",
      "epoch : 21  |  total loss : 0.018949929624795914\n",
      "epoch : 22  |  total loss : 0.018935099244117737\n",
      "epoch : 23  |  total loss : 0.018927577883005142\n",
      "epoch : 24  |  total loss : 0.018923718482255936\n",
      "epoch : 25  |  total loss : 0.01892177015542984\n",
      "epoch : 26  |  total loss : 0.018920773640275\n",
      "epoch : 27  |  total loss : 0.01892026886343956\n",
      "epoch : 28  |  total loss : 0.018920009955763817\n",
      "epoch : 29  |  total loss : 0.01891990751028061\n",
      "epoch : 30  |  total loss : 0.018919851630926132\n",
      "epoch : 31  |  total loss : 0.01891978271305561\n",
      "epoch : 32  |  total loss : 0.018919767811894417\n",
      "epoch : 33  |  total loss : 0.018919767811894417\n",
      "epoch : 34  |  total loss : 0.01891975849866867\n",
      "epoch : 35  |  total loss : 0.018919769674539566\n",
      "epoch : 36  |  total loss : 0.018919769674539566\n",
      "epoch : 37  |  total loss : 0.018919747322797775\n",
      "epoch : 38  |  total loss : 0.01891973800957203\n",
      "epoch : 39  |  total loss : 0.018919749185442924\n",
      "epoch : 40  |  total loss : 0.01891975849866867\n",
      "epoch : 41  |  total loss : 0.018919749185442924\n",
      "epoch : 42  |  total loss : 0.018919751048088074\n",
      "epoch : 43  |  total loss : 0.018919751048088074\n",
      "epoch : 44  |  total loss : 0.018919754773378372\n",
      "epoch : 45  |  total loss : 0.018919767811894417\n",
      "epoch : 46  |  total loss : 0.01891975663602352\n",
      "epoch : 47  |  total loss : 0.018919751048088074\n",
      "epoch : 48  |  total loss : 0.018919751048088074\n",
      "epoch : 49  |  total loss : 0.018919751048088074\n",
      "epoch : 50  |  total loss : 0.018919751048088074\n",
      "epoch : 51  |  total loss : 0.018919751048088074\n",
      "epoch : 52  |  total loss : 0.018919751048088074\n",
      "epoch : 53  |  total loss : 0.018919751048088074\n",
      "epoch : 54  |  total loss : 0.018919751048088074\n",
      "epoch : 55  |  total loss : 0.018919751048088074\n",
      "epoch : 56  |  total loss : 0.018919751048088074\n",
      "epoch : 57  |  total loss : 0.018919751048088074\n",
      "epoch : 58  |  total loss : 0.018919751048088074\n",
      "epoch : 59  |  total loss : 0.018919751048088074\n",
      "epoch : 60  |  total loss : 0.018919751048088074\n",
      "epoch : 61  |  total loss : 0.018919751048088074\n",
      "epoch : 62  |  total loss : 0.018919751048088074\n",
      "epoch : 63  |  total loss : 0.018919751048088074\n",
      "epoch : 64  |  total loss : 0.018919751048088074\n",
      "epoch : 65  |  total loss : 0.018919751048088074\n",
      "epoch : 66  |  total loss : 0.018919751048088074\n",
      "epoch : 67  |  total loss : 0.018919751048088074\n",
      "epoch : 68  |  total loss : 0.018919751048088074\n",
      "epoch : 69  |  total loss : 0.018919751048088074\n",
      "epoch : 70  |  total loss : 0.018919751048088074\n",
      "epoch : 71  |  total loss : 0.018919751048088074\n",
      "epoch : 72  |  total loss : 0.018919751048088074\n",
      "epoch : 73  |  total loss : 0.018919751048088074\n",
      "epoch : 74  |  total loss : 0.018919751048088074\n",
      "epoch : 75  |  total loss : 0.018919751048088074\n",
      "epoch : 76  |  total loss : 0.018919751048088074\n",
      "epoch : 77  |  total loss : 0.018919751048088074\n",
      "epoch : 78  |  total loss : 0.018919751048088074\n",
      "epoch : 79  |  total loss : 0.018919751048088074\n",
      "epoch : 80  |  total loss : 0.018919751048088074\n",
      "epoch : 81  |  total loss : 0.018919751048088074\n",
      "epoch : 82  |  total loss : 0.018919751048088074\n",
      "epoch : 83  |  total loss : 0.018919751048088074\n",
      "epoch : 84  |  total loss : 0.018919751048088074\n",
      "epoch : 85  |  total loss : 0.018919751048088074\n",
      "epoch : 86  |  total loss : 0.018919751048088074\n",
      "epoch : 87  |  total loss : 0.018919751048088074\n",
      "epoch : 88  |  total loss : 0.018919751048088074\n",
      "epoch : 89  |  total loss : 0.018919751048088074\n",
      "epoch : 90  |  total loss : 0.018919751048088074\n",
      "epoch : 91  |  total loss : 0.018919751048088074\n",
      "epoch : 92  |  total loss : 0.018919751048088074\n",
      "epoch : 93  |  total loss : 0.018919751048088074\n",
      "epoch : 94  |  total loss : 0.018919751048088074\n",
      "epoch : 95  |  total loss : 0.018919751048088074\n",
      "epoch : 96  |  total loss : 0.018919751048088074\n",
      "epoch : 97  |  total loss : 0.018919751048088074\n",
      "epoch : 98  |  total loss : 0.018919751048088074\n",
      "epoch : 99  |  total loss : 0.018919751048088074\n"
     ]
    }
   ],
   "source": [
    "# x = tensor([1.0000, 0.9737, 0.9474, 0.9211, 0.8947, 0.8684, 0.8421, 0.8158, 0.7895,\n",
    "#                0.7632, 0.7368, 0.7105, 0.6842, 0.6579, 0.6316, 0.6053, 0.5789, 0.5526,\n",
    "#                0.5263, 0.5000])\n",
    "\n",
    "\n",
    "\n",
    "# y_true = tensor([1.5702, 1.5663, 1.5620, 1.5572, 1.5517, 1.5456, 1.5386, 1.5309, 1.5221,\n",
    "#                 1.5123, 1.5013, 1.4890, 1.4751, 1.4597, 1.4424, 1.4231, 1.4016, 1.3777,\n",
    "#                 1.3511, 1.3216])\n",
    "\n",
    "\n",
    "for epoch in range(100):\n",
    "    loss_toale = 0\n",
    "    \n",
    "    for i in range(len(x)):\n",
    "        x_i = x[i]\n",
    "        y_true_i = y_true[i]\n",
    "        \n",
    "        y_pred_i = function(x_i)\n",
    "        \n",
    "        loss_val = loss(y_pred_i, y_true_i)\n",
    "        \n",
    "        loss_val.backward()\n",
    "        \n",
    "        loss_toale += loss_val\n",
    "        \n",
    "    print(f'epoch : {epoch}  |  total loss : {loss_toale}')\n",
    "    \n",
    "    optimizer.step()\n",
    "    optimizer.zero_grad() "
   ]
  },
  {
   "cell_type": "code",
   "execution_count": 493,
   "metadata": {},
   "outputs": [
    {
     "name": "stdout",
     "output_type": "stream",
     "text": [
      "the ouput val\n"
     ]
    },
    {
     "data": {
      "text/plain": [
       "tensor([1.5553, 1.5492, 1.5429, 1.5364, 1.5297, 1.5228, 1.5157, 1.5085, 1.5010,\n",
       "        1.4933, 1.4854, 1.4773, 1.4690, 1.4604, 1.4516, 1.4426, 1.4333, 1.4238,\n",
       "        1.4140, 1.4040], grad_fn=<MulBackward0>)"
      ]
     },
     "execution_count": 493,
     "metadata": {},
     "output_type": "execute_result"
    }
   ],
   "source": [
    "y = function(x)\n",
    "print('the ouput val')\n",
    "y"
   ]
  },
  {
   "cell_type": "code",
   "execution_count": 494,
   "metadata": {},
   "outputs": [
    {
     "data": {
      "text/plain": [
       "Text(0, 0.5, 'y')"
      ]
     },
     "execution_count": 494,
     "metadata": {},
     "output_type": "execute_result"
    },
    {
     "data": {
      "image/png": "[encoded data removed]",
      "text/plain": [
       "<Figure size 640x480 with 1 Axes>"
      ]
     },
     "metadata": {},
     "output_type": "display_data"
    }
   ],
   "source": [
    "sns.set(style='whitegrid')\n",
    "sns.lineplot(\n",
    "    x = x,\n",
    "    y = y.detach(),\n",
    "    color = 'red',\n",
    "    linewidth = 3\n",
    ")\n",
    "plt.xlabel('x')\n",
    "plt.ylabel('y')"
   ]
  },
  {
   "cell_type": "code",
   "execution_count": 495,
   "metadata": {},
   "outputs": [
    {
     "data": {
      "text/plain": [
       "Parameter containing:\n",
       "tensor(0., requires_grad=True)"
      ]
     },
     "execution_count": 495,
     "metadata": {},
     "output_type": "execute_result"
    }
   ],
   "source": [
    "function.W00"
   ]
  },
  {
   "cell_type": "markdown",
   "metadata": {},
   "source": [
    "**Creat model Linear regression model of Neural Netwok**\n",
    "---"
   ]
  },
  {
   "cell_type": "code",
   "execution_count": 496,
   "metadata": {},
   "outputs": [],
   "source": [
    "class LinearRegressionNN(nn.Module):\n",
    "    def __init__(self):\n",
    "        super().__init__()\n",
    "        \n",
    "        self.W = nn.Parameter(torch.randn(1, dtype=torch.float), requires_grad=True)\n",
    "        self.b = nn.Parameter(torch.randn(1, dtype=torch.float), requires_grad=True)\n",
    "        \n",
    "    def forward(self, x):\n",
    "        z = x * self.W + self.b\n",
    "        y = F.sigmoid(x)\n",
    "        return y\n",
    "        "
   ]
  },
  {
   "cell_type": "code",
   "execution_count": 497,
   "metadata": {},
   "outputs": [
    {
     "name": "stdout",
     "output_type": "stream",
     "text": [
      "x : tensor([ 1.0000,  0.8947,  0.7895,  0.6842,  0.5789,  0.4737,  0.3684,  0.2632,\n",
      "         0.1579,  0.0526, -0.0526, -0.1579, -0.2632, -0.3684, -0.4737, -0.5789,\n",
      "        -0.6842, -0.7895, -0.8947, -1.0000])\n",
      "y : tensor([0.7311, 0.7099, 0.6877, 0.6647, 0.6408, 0.6163, 0.5911, 0.5654, 0.5394,\n",
      "        0.5132, 0.4868, 0.4606, 0.4346, 0.4089, 0.3837, 0.3592, 0.3353, 0.3123,\n",
      "        0.2901, 0.2689])\n"
     ]
    },
    {
     "data": {
      "text/plain": [
       "Text(0, 0.5, 'y_true')"
      ]
     },
     "execution_count": 497,
     "metadata": {},
     "output_type": "execute_result"
    },
    {
     "data": {
      "image/png": "[encoded data removed]",
      "text/plain": [
       "<Figure size 640x480 with 1 Axes>"
      ]
     },
     "metadata": {},
     "output_type": "display_data"
    }
   ],
   "source": [
    "model = LinearRegressionNN()\n",
    "x = torch.linspace(1, -1, 20, dtype=torch.float)\n",
    "print('x :', x)\n",
    "\n",
    "y_true = model(x)\n",
    "print('y :', y_true)\n",
    "\n",
    "\n",
    "sns.set(style='whitegrid')\n",
    "sns.lineplot(\n",
    "    x = x,\n",
    "    y = y_true.detach(),\n",
    "    color = 'red',\n",
    "    linewidth = 3\n",
    ")\n",
    "plt.xlabel('x')\n",
    "plt.ylabel('y_true')"
   ]
  },
  {
   "cell_type": "code",
   "execution_count": 498,
   "metadata": {},
   "outputs": [],
   "source": [
    "class LinearRegressionNN(nn.Module):\n",
    "    def __init__(self):\n",
    "        super().__init__()\n",
    "        \n",
    "        self.W = nn.Parameter(torch.tensor(0.0,  dtype=torch.float32), requires_grad=True)\n",
    "        self.b = nn.Parameter(torch.tensor(0.0,  dtype=torch.float32), requires_grad=True)\n",
    "        \n",
    "    def forward(self, x):\n",
    "        y = x * self.W + self.b\n",
    "        \n",
    "        return y\n",
    "        "
   ]
  },
  {
   "cell_type": "code",
   "execution_count": 499,
   "metadata": {},
   "outputs": [
    {
     "name": "stdout",
     "output_type": "stream",
     "text": [
      "x : tensor([ 1.0000,  0.8947,  0.7895,  0.6842,  0.5789,  0.4737,  0.3684,  0.2632,\n",
      "         0.1579,  0.0526, -0.0526, -0.1579, -0.2632, -0.3684, -0.4737, -0.5789,\n",
      "        -0.6842, -0.7895, -0.8947, -1.0000])\n",
      "y_pred tensor([0., 0., 0., 0., 0., 0., 0., 0., 0., 0., 0., 0., 0., 0., 0., 0., 0., 0., 0., 0.],\n",
      "       grad_fn=<AddBackward0>)\n"
     ]
    },
    {
     "data": {
      "text/plain": [
       "Text(0, 0.5, 'y_pred')"
      ]
     },
     "execution_count": 499,
     "metadata": {},
     "output_type": "execute_result"
    },
    {
     "data": {
      "image/png": "[encoded data removed]",
      "text/plain": [
       "<Figure size 640x480 with 1 Axes>"
      ]
     },
     "metadata": {},
     "output_type": "display_data"
    }
   ],
   "source": [
    "model = LinearRegressionNN()\n",
    "x = torch.linspace(1, -1, 20, dtype=torch.float)\n",
    "print('x :', x)\n",
    "y_pred = model(x)\n",
    "print('y_pred', y_pred)\n",
    "\n",
    "\n",
    "sns.set(style='whitegrid')\n",
    "sns.lineplot(\n",
    "    x = x,\n",
    "    y = y_pred.detach(),\n",
    "    color = 'red',\n",
    "    linewidth = 3\n",
    ")\n",
    "plt.xlabel('x')\n",
    "plt.ylabel('y_pred')"
   ]
  },
  {
   "cell_type": "code",
   "execution_count": 500,
   "metadata": {},
   "outputs": [
    {
     "name": "stdout",
     "output_type": "stream",
     "text": [
      "epoch 0  | total loss 5.414869450032711\n",
      "epoch 1  | total loss 2.101658657193184\n",
      "epoch 2  | total loss 0.8673563800402917\n",
      "epoch 3  | total loss 0.3928042075749545\n",
      "epoch 4  | total loss 0.20000834950496937\n",
      "epoch 5  | total loss 0.114639292783977\n",
      "epoch 6  | total loss 0.07230207106567832\n",
      "epoch 7  | total loss 0.04862446919167951\n",
      "epoch 8  | total loss 0.03396759605857369\n",
      "epoch 9  | total loss 0.024232582293279847\n",
      "epoch 10  | total loss 0.017486725478768506\n",
      "epoch 11  | total loss 0.012701876299843207\n",
      "epoch 12  | total loss 0.009266313815032845\n",
      "epoch 13  | total loss 0.006784192220720797\n",
      "epoch 14  | total loss 0.004985298541669181\n",
      "epoch 15  | total loss 0.003679538986489206\n",
      "epoch 16  | total loss 0.0027310029138334357\n",
      "epoch 17  | total loss 0.002041694400986671\n",
      "epoch 18  | total loss 0.00154067300945826\n",
      "epoch 19  | total loss 0.00117647127001419\n",
      "epoch 20  | total loss 0.0009117174729453836\n",
      "epoch 21  | total loss 0.0007192507431454942\n",
      "epoch 22  | total loss 0.0005793329111156709\n",
      "epoch 23  | total loss 0.0004776152306087411\n",
      "epoch 24  | total loss 0.00040367037252053706\n",
      "epoch 25  | total loss 0.0003499126733004232\n",
      "epoch 26  | total loss 0.00031083334414461206\n",
      "epoch 27  | total loss 0.00028242072910700244\n",
      "epoch 28  | total loss 0.0002617669719739979\n",
      "epoch 29  | total loss 0.0002467525789171532\n",
      "epoch 30  | total loss 0.00023583520680858783\n",
      "epoch 31  | total loss 0.0002278996997233662\n",
      "epoch 32  | total loss 0.0002221325049731604\n",
      "epoch 33  | total loss 0.0002179377166839913\n",
      "epoch 34  | total loss 0.00021488823017534742\n",
      "epoch 35  | total loss 0.00021267225548626811\n",
      "epoch 36  | total loss 0.00021106041037910472\n",
      "epoch 37  | total loss 0.00020989009146887838\n",
      "epoch 38  | total loss 0.00020903862673549156\n",
      "epoch 39  | total loss 0.00020841863448595177\n",
      "epoch 40  | total loss 0.00020796909478804082\n",
      "epoch 41  | total loss 0.00020764248958471399\n",
      "epoch 42  | total loss 0.00020740366664995236\n",
      "epoch 43  | total loss 0.00020723147036960654\n",
      "epoch 44  | total loss 0.00020710536119850076\n",
      "epoch 45  | total loss 0.00020701357021835065\n",
      "epoch 46  | total loss 0.00020694815935939914\n",
      "epoch 47  | total loss 0.00020689986266120286\n",
      "epoch 48  | total loss 0.00020686445043338608\n",
      "epoch 49  | total loss 0.0002068392478804526\n",
      "epoch 50  | total loss 0.0002068194210380625\n",
      "epoch 51  | total loss 0.00020680685042862024\n",
      "epoch 52  | total loss 0.0002067966784551345\n",
      "epoch 53  | total loss 0.00020679024689229664\n",
      "epoch 54  | total loss 0.0002067844255861928\n",
      "epoch 55  | total loss 0.00020678013316910437\n",
      "epoch 56  | total loss 0.0002067776353555928\n",
      "epoch 57  | total loss 0.00020677574907779217\n",
      "epoch 58  | total loss 0.0002067748264664715\n",
      "epoch 59  | total loss 0.0002067723293777135\n",
      "epoch 60  | total loss 0.0002067717582150408\n",
      "epoch 61  | total loss 0.00020677205129970844\n",
      "epoch 62  | total loss 0.0002067707979165334\n",
      "epoch 63  | total loss 0.00020677048635775463\n",
      "epoch 64  | total loss 0.00020677043382022475\n",
      "epoch 65  | total loss 0.00020677107706035258\n",
      "epoch 66  | total loss 0.0002067703415775668\n",
      "epoch 67  | total loss 0.00020677148660297462\n",
      "epoch 68  | total loss 0.0002067711092195168\n",
      "epoch 69  | total loss 0.00020677018871140262\n",
      "epoch 70  | total loss 0.00020677102384070167\n",
      "epoch 71  | total loss 0.00020677046205719307\n",
      "epoch 72  | total loss 0.00020677019170989297\n",
      "epoch 73  | total loss 0.0002067706407018477\n",
      "epoch 74  | total loss 0.00020677007040603712\n",
      "epoch 75  | total loss 0.00020677108956590473\n",
      "epoch 76  | total loss 0.00020677088731702042\n",
      "epoch 77  | total loss 0.00020677094630627835\n",
      "epoch 78  | total loss 0.00020677089867149334\n",
      "epoch 79  | total loss 0.00020677093171173055\n",
      "epoch 80  | total loss 0.0002067706648603007\n",
      "epoch 81  | total loss 0.0002067705736408243\n",
      "epoch 82  | total loss 0.0002067707508786043\n",
      "epoch 83  | total loss 0.00020676945473496744\n",
      "epoch 84  | total loss 0.00020676917057471655\n",
      "epoch 85  | total loss 0.00020677052550865938\n",
      "epoch 86  | total loss 0.00020677105918309735\n",
      "epoch 87  | total loss 0.00020677098051180565\n",
      "epoch 88  | total loss 0.00020677012311409726\n",
      "epoch 89  | total loss 0.0002067707920474504\n",
      "epoch 90  | total loss 0.00020677029087323717\n",
      "epoch 91  | total loss 0.00020677095513121913\n",
      "epoch 92  | total loss 0.00020677042148520286\n",
      "epoch 93  | total loss 0.00020677042557792902\n",
      "epoch 94  | total loss 0.00020677036054905784\n",
      "epoch 95  | total loss 0.00020677043090699954\n",
      "epoch 96  | total loss 0.00020677059072227166\n",
      "epoch 97  | total loss 0.00020677059072227166\n",
      "epoch 98  | total loss 0.00020677059072227166\n",
      "epoch 99  | total loss 0.00020677059072227166\n"
     ]
    }
   ],
   "source": [
    "optimization = SGD(model.parameters(), lr = 0.01)\n",
    "loss_ = nn.MSELoss()\n",
    "\n",
    "for epoch in range(100):\n",
    "    \n",
    "    loss_total = 0 # initialisation the loss into y is 0 \n",
    "    \n",
    "    for i in range(len(x)): # lop the each input at the x \n",
    "        x_i = x[i]  # chaus  the one value input \n",
    "        y_true_i = y_true[i]  # chaus the one value output true\n",
    "        y_pred_i = model(x_i)  # caculat the one value predction output\n",
    "        \n",
    "        loss_value = loss_(y_pred_i, y_true_i)   # calculated the loss or the error\n",
    "        loss_value.backward()  # displain the gradinet the loss of the wight and bias\n",
    "        loss_total += loss_value.item()   # appende the new loss into the (total loss)\n",
    "    print(f'epoch {epoch}  | total loss {loss_total}')\n",
    "    optimization.step()  # step the updat of the wigth and bias\n",
    "    optimization.zero_grad()  # stop the gradient and chang value of 0 before not camplicated "
   ]
  },
  {
   "cell_type": "code",
   "execution_count": 501,
   "metadata": {},
   "outputs": [
    {
     "name": "stdout",
     "output_type": "stream",
     "text": [
      "y_pred tensor([0.7372, 0.7123, 0.6873, 0.6623, 0.6373, 0.6124, 0.5874, 0.5624, 0.5375,\n",
      "        0.5125, 0.4875, 0.4625, 0.4376, 0.4126, 0.3876, 0.3627, 0.3377, 0.3127,\n",
      "        0.2877, 0.2628], grad_fn=<AddBackward0>)\n"
     ]
    },
    {
     "data": {
      "text/plain": [
       "Text(0, 0.5, 'y_pred')"
      ]
     },
     "execution_count": 501,
     "metadata": {},
     "output_type": "execute_result"
    },
    {
     "data": {
      "image/png": "[encoded data removed]",
      "text/plain": [
       "<Figure size 640x480 with 1 Axes>"
      ]
     },
     "metadata": {},
     "output_type": "display_data"
    }
   ],
   "source": [
    "y_pred = model(x)\n",
    "print('y_pred', y_pred)\n",
    "sns.set(style='whitegrid')\n",
    "sns.lineplot(\n",
    "    x = x,\n",
    "    y = y_pred.detach(),\n",
    "    color = 'red',\n",
    "    linewidth = 3\n",
    ")\n",
    "plt.xlabel('x')\n",
    "plt.ylabel('y_pred')"
   ]
  },
  {
   "cell_type": "code",
   "execution_count": 504,
   "metadata": {},
   "outputs": [
    {
     "data": {
      "text/plain": [
       "Parameter containing:\n",
       "tensor(0.5000, requires_grad=True)"
      ]
     },
     "execution_count": 504,
     "metadata": {},
     "output_type": "execute_result"
    }
   ],
   "source": [
    "model.b"
   ]
  },
  {
   "cell_type": "markdown",
   "metadata": {},
   "source": [
    "----"
   ]
  },
  {
   "cell_type": "code",
   "execution_count": null,
   "metadata": {},
   "outputs": [],
   "source": [
    "def fun(x):\n",
    "    return x**2 + 1\n",
    "def derv_f(x):\n",
    "    return 2*x\n",
    "x_k = 2\n",
    "tet = 0.2\n",
    "itera = 10\n",
    "\n",
    "resultat = []\n",
    "for i in range(iter + 1) :\n",
    "    f = f(x)\n",
    "    f_dv =  derv_f(x)"
   ]
  }
 ],
 "metadata": {
  "kernelspec": {
   "display_name": "Python 3",
   "language": "python",
   "name": "python3"
  },
  "language_info": {
   "codemirror_mode": {
    "name": "ipython",
    "version": 3
   },
   "file_extension": ".py",
   "mimetype": "text/x-python",
   "name": "python",
   "nbconvert_exporter": "python",
   "pygments_lexer": "ipython3",
   "version": "3.12.9"
  }
 },
 "nbformat": 4,
 "nbformat_minor": 2
}
